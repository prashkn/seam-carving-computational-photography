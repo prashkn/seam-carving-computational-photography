{
 "cells": [
  {
   "cell_type": "markdown",
   "metadata": {},
   "source": [
    "## Seam Carving Implementation"
   ]
  },
  {
   "cell_type": "code",
   "execution_count": null,
   "metadata": {},
   "outputs": [],
   "source": [
    "import cv2\n",
    "import numpy as np\n",
    "import matplotlib.pyplot as plt\n",
    "%matplotlib inline\n",
    "import os\n",
    "import scipy\n",
    "import scipy.sparse.linalg\n",
    "import ipywidgets as widgets\n",
    "import utils"
   ]
  },
  {
   "cell_type": "markdown",
   "metadata": {},
   "source": [
    "## Upload your own photo"
   ]
  },
  {
   "cell_type": "code",
   "execution_count": null,
   "metadata": {},
   "outputs": [],
   "source": [
    "# User TODO: Run this block and upload your own picture using the upload widget\n",
    "\n",
    "pic_upload = widgets.FileUpload(accept=\"image/*\", multiple=False)\n",
    "pic_upload"
   ]
  },
  {
   "cell_type": "code",
   "execution_count": null,
   "metadata": {},
   "outputs": [],
   "source": [
    "pic_upload.value"
   ]
  },
  {
   "cell_type": "code",
   "execution_count": null,
   "metadata": {
    "scrolled": true
   },
   "outputs": [],
   "source": [
    "if len(pic_upload.value) == 1:\n",
    "    content = pic_upload.value[0]['content'].tobytes()\n",
    "\n",
    "    np_array = np.frombuffer(content, np.uint8)\n",
    "    original = cv2.cvtColor(cv2.imdecode(np_array, cv2.IMREAD_COLOR), cv2.COLOR_BGR2RGB)\n",
    "    running_im = np.copy(original)\n",
    "else:\n",
    "    print(\"Error: Please upload 1 picture\")"
   ]
  },
  {
   "cell_type": "markdown",
   "metadata": {},
   "source": [
    "## Set your own width and height"
   ]
  },
  {
   "cell_type": "code",
   "execution_count": null,
   "metadata": {},
   "outputs": [],
   "source": [
    "# User TODO: Choose your width %. Setting the value < 0 or > 100 will create undefined behavior.\n",
    "\n",
    "desired_width = widgets.IntText(\n",
    "    value=90,\n",
    "    min=0,\n",
    "    max=100,\n",
    "    description='Width %:',\n",
    "    disabled=False\n",
    ")\n",
    "\n",
    "desired_width"
   ]
  },
  {
   "cell_type": "code",
   "execution_count": null,
   "metadata": {},
   "outputs": [],
   "source": [
    "# User TODO: Choose your height %. Setting the value < 0 or > 100 will create undefined behavior.\n",
    "\n",
    "desired_height = widgets.IntText(\n",
    "    value=90,\n",
    "    min=0,\n",
    "    max=100,\n",
    "    description='Height %:',\n",
    "    disabled=False\n",
    ")\n",
    "\n",
    "desired_height"
   ]
  },
  {
   "cell_type": "code",
   "execution_count": null,
   "metadata": {},
   "outputs": [],
   "source": [
    "assert desired_width.value >= 0 and desired_width.value <= 100\n",
    "assert desired_height.value >= 0 and desired_height.value <= 100\n",
    "\n",
    "width_seams = round(np.shape(original)[1] * (100 - desired_width.value) * 0.01)\n",
    "height_seams = round(np.shape(original)[0] * (100 - desired_height.value) * 0.01)\n",
    "\n",
    "width_seams, height_seams"
   ]
  },
  {
   "cell_type": "code",
   "execution_count": null,
   "metadata": {},
   "outputs": [],
   "source": [
    "# Remove vertical seams\n",
    "wip = np.copy(original)\n",
    "\n",
    "for i in range(width_seams):\n",
    "    seam, width_energypaths = utils.findseam(running_im)\n",
    "    running_im = utils.removeseam(running_im,seam)\n",
    "    \n",
    "#     num_rows, num_cols = np.shape(np.sum(running_im,axis=2).astype(np.uint8))\n",
    "#     wip[range(num_rows),seam,:] = [255,0,0]\n",
    "\n",
    "#     plt.figure()\n",
    "#     plt.imshow(wip[:,:])"
   ]
  },
  {
   "cell_type": "code",
   "execution_count": null,
   "metadata": {},
   "outputs": [],
   "source": [
    "# Rotate image to get & remove horizontal seams\n",
    "rot_im = np.rot90(running_im, 1)\n",
    "\n",
    "for i in range(height_seams):\n",
    "    seam, height_energypaths = utils.findseam(rot_im)\n",
    "    rot_im = utils.removeseam(rot_im,seam)\n",
    "    \n",
    "running_im = np.rot90(rot_im, 3)"
   ]
  },
  {
   "cell_type": "code",
   "execution_count": null,
   "metadata": {},
   "outputs": [],
   "source": [
    "plt.figure(figsize=(10,30))\n",
    "plt.subplot(4,1,1)\n",
    "plt.imshow(width_energypaths)\n",
    "plt.title('Horizontal Energy Map')\n",
    "\n",
    "plt.subplot(4,1,2)\n",
    "plt.imshow(np.rot90(height_energypaths,3))\n",
    "plt.title('Vertical Energy Map')\n",
    "\n",
    "plt.subplot(4,1,3)\n",
    "plt.xlim(0, np.shape(original)[1])\n",
    "plt.ylim(np.shape(original)[0], 0)\n",
    "plt.imshow(original)\n",
    "plt.title(f'Original Size: {np.shape(original)[1]} x {np.shape(original)[0]}')\n",
    "\n",
    "plt.subplot(4,1,4,facecolor=\"gray\")\n",
    "plt.xlim(0, np.shape(original)[1])\n",
    "plt.ylim(np.shape(original)[0], 0)\n",
    "plt.imshow(running_im)\n",
    "plt.title(f'Modified Size: {np.shape(running_im)[1]} x {np.shape(running_im)[0]}')"
   ]
  },
  {
   "cell_type": "code",
   "execution_count": null,
   "metadata": {},
   "outputs": [],
   "source": []
  }
 ],
 "metadata": {
  "kernelspec": {
   "display_name": "Python 3",
   "language": "python",
   "name": "python3"
  },
  "language_info": {
   "codemirror_mode": {
    "name": "ipython",
    "version": 3
   },
   "file_extension": ".py",
   "mimetype": "text/x-python",
   "name": "python",
   "nbconvert_exporter": "python",
   "pygments_lexer": "ipython3",
   "version": "3.8.5"
  }
 },
 "nbformat": 4,
 "nbformat_minor": 2
}
