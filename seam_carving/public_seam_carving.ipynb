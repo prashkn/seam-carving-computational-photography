{
 "cells": [
  {
   "cell_type": "markdown",
   "metadata": {},
   "source": [
    "## Seam Carving Implementation"
   ]
  },
  {
   "cell_type": "code",
   "execution_count": 1,
   "metadata": {},
   "outputs": [],
   "source": [
    "import cv2\n",
    "import numpy as np\n",
    "import matplotlib.pyplot as plt\n",
    "%matplotlib inline\n",
    "import os\n",
    "import scipy\n",
    "import scipy.sparse.linalg\n",
    "import ipywidgets as widgets\n",
    "import seam_carving"
   ]
  },
  {
   "cell_type": "markdown",
   "metadata": {},
   "source": [
    "## 1. Upload your own photo"
   ]
  },
  {
   "cell_type": "code",
   "execution_count": 2,
   "metadata": {},
   "outputs": [
    {
     "data": {
      "application/vnd.jupyter.widget-view+json": {
       "model_id": "ff071906ecb54458a91c095b094d05e1",
       "version_major": 2,
       "version_minor": 0
      },
      "text/plain": [
       "FileUpload(value=(), accept='image/*', description='Upload')"
      ]
     },
     "execution_count": 2,
     "metadata": {},
     "output_type": "execute_result"
    }
   ],
   "source": [
    "# TODO: Run this block and upload your own picture using the upload widget\n",
    "\n",
    "pic_upload = widgets.FileUpload(accept=\"image/*\", multiple=False)\n",
    "pic_upload"
   ]
  },
  {
   "cell_type": "code",
   "execution_count": 3,
   "metadata": {},
   "outputs": [
    {
     "data": {
      "text/plain": [
       "({'name': 'octotender.jpg',\n",
       "  'type': 'image/jpeg',\n",
       "  'size': 18358,\n",
       "  'content': <memory at 0x7f88cfe93b80>,\n",
       "  'last_modified': datetime.datetime(2023, 11, 2, 15, 17, 38, 806000, tzinfo=datetime.timezone.utc)},)"
      ]
     },
     "execution_count": 3,
     "metadata": {},
     "output_type": "execute_result"
    }
   ],
   "source": [
    "pic_upload.value"
   ]
  },
  {
   "cell_type": "code",
   "execution_count": 9,
   "metadata": {
    "scrolled": true
   },
   "outputs": [],
   "source": [
    "if len(pic_upload.value) == 1:\n",
    "#     file_name = pic_upload.metadata[0]['name']\n",
    "    content = pic_upload.value[0]['content'].tobytes()\n",
    "\n",
    "    np_array = np.frombuffer(content, np.uint8)\n",
    "    original = cv2.cvtColor(cv2.imdecode(np_array, cv2.IMREAD_COLOR), cv2.COLOR_BGR2RGB)\n",
    "    running_im = np.copy(original)\n",
    "else:\n",
    "    print(\"Error: Please upload 1 picture\")"
   ]
  },
  {
   "cell_type": "code",
   "execution_count": 5,
   "metadata": {},
   "outputs": [
    {
     "data": {
      "application/vnd.jupyter.widget-view+json": {
       "model_id": "653e1b3fcd4d46feaed3862de866aeed",
       "version_major": 2,
       "version_minor": 0
      },
      "text/plain": [
       "IntText(value=90, description='Width %:')"
      ]
     },
     "execution_count": 5,
     "metadata": {},
     "output_type": "execute_result"
    }
   ],
   "source": [
    "#TODO: Choose your width % to decrease by\n",
    "\n",
    "desired_width = widgets.IntText(\n",
    "    value=90,\n",
    "    description='Width %:',\n",
    "    disabled=False\n",
    ")\n",
    "\n",
    "desired_width"
   ]
  },
  {
   "cell_type": "code",
   "execution_count": 6,
   "metadata": {},
   "outputs": [
    {
     "data": {
      "application/vnd.jupyter.widget-view+json": {
       "model_id": "4682651094834c7db35871a5d299b065",
       "version_major": 2,
       "version_minor": 0
      },
      "text/plain": [
       "IntText(value=90, description='Height %:')"
      ]
     },
     "execution_count": 6,
     "metadata": {},
     "output_type": "execute_result"
    }
   ],
   "source": [
    "#TODO: Choose your height % to decrease by\n",
    "\n",
    "desired_height = widgets.IntText(\n",
    "    value=90,\n",
    "    min=0,\n",
    "    max=100,\n",
    "    description='Height %:',\n",
    "    disabled=False\n",
    ")\n",
    "\n",
    "desired_height"
   ]
  },
  {
   "cell_type": "code",
   "execution_count": 7,
   "metadata": {},
   "outputs": [
    {
     "name": "stdout",
     "output_type": "stream",
     "text": [
      "90\n"
     ]
    }
   ],
   "source": [
    "print(desired_height.value)"
   ]
  },
  {
   "cell_type": "code",
   "execution_count": 10,
   "metadata": {},
   "outputs": [
    {
     "name": "stdout",
     "output_type": "stream",
     "text": [
      "0\n"
     ]
    },
    {
     "ename": "IndexError",
     "evalue": "index 221 is out of bounds for axis 1 with size 221",
     "output_type": "error",
     "traceback": [
      "\u001b[0;31m---------------------------------------------------------------------------\u001b[0m",
      "\u001b[0;31mIndexError\u001b[0m                                Traceback (most recent call last)",
      "\u001b[0;32m<ipython-input-10-c45e641d6606>\u001b[0m in \u001b[0;36m<module>\u001b[0;34m\u001b[0m\n\u001b[1;32m      1\u001b[0m \u001b[0;32mfor\u001b[0m \u001b[0mi\u001b[0m \u001b[0;32min\u001b[0m \u001b[0mrange\u001b[0m\u001b[0;34m(\u001b[0m\u001b[0;36m100\u001b[0m\u001b[0;34m)\u001b[0m\u001b[0;34m:\u001b[0m \u001b[0;31m#todo: give user choice of width and height\u001b[0m\u001b[0;34m\u001b[0m\u001b[0;34m\u001b[0m\u001b[0m\n\u001b[1;32m      2\u001b[0m     \u001b[0mprint\u001b[0m\u001b[0;34m(\u001b[0m\u001b[0mi\u001b[0m\u001b[0;34m)\u001b[0m\u001b[0;34m\u001b[0m\u001b[0;34m\u001b[0m\u001b[0m\n\u001b[0;32m----> 3\u001b[0;31m     \u001b[0mseam\u001b[0m\u001b[0;34m,\u001b[0m \u001b[0menergypaths\u001b[0m \u001b[0;34m=\u001b[0m \u001b[0mseam_carving\u001b[0m\u001b[0;34m.\u001b[0m\u001b[0mfindseam\u001b[0m\u001b[0;34m(\u001b[0m\u001b[0mrunning_im\u001b[0m\u001b[0;34m)\u001b[0m\u001b[0;34m\u001b[0m\u001b[0;34m\u001b[0m\u001b[0m\n\u001b[0m\u001b[1;32m      4\u001b[0m     \u001b[0mrunning_im\u001b[0m \u001b[0;34m=\u001b[0m \u001b[0mseam_carving\u001b[0m\u001b[0;34m.\u001b[0m\u001b[0mremoveseam\u001b[0m\u001b[0;34m(\u001b[0m\u001b[0mrunning_im\u001b[0m\u001b[0;34m,\u001b[0m\u001b[0mseam\u001b[0m\u001b[0;34m)\u001b[0m\u001b[0;34m\u001b[0m\u001b[0;34m\u001b[0m\u001b[0m\n",
      "\u001b[0;32m~/seam-carving-computational-photography/seam_carving/seam_carving.py\u001b[0m in \u001b[0;36mfindseam\u001b[0;34m(image)\u001b[0m\n\u001b[1;32m     73\u001b[0m         \u001b[0mprevcol\u001b[0m \u001b[0;34m=\u001b[0m \u001b[0mseam\u001b[0m\u001b[0;34m[\u001b[0m\u001b[0mrow\u001b[0m\u001b[0;34m+\u001b[0m\u001b[0;36m1\u001b[0m\u001b[0;34m]\u001b[0m\u001b[0;34m\u001b[0m\u001b[0;34m\u001b[0m\u001b[0m\n\u001b[1;32m     74\u001b[0m         \u001b[0;32mif\u001b[0m \u001b[0mprevcol\u001b[0m\u001b[0;34m!=\u001b[0m\u001b[0;36m0\u001b[0m \u001b[0;32mand\u001b[0m \u001b[0mprevcol\u001b[0m \u001b[0;34m!=\u001b[0m \u001b[0;34m-\u001b[0m\u001b[0;36m1\u001b[0m\u001b[0;34m:\u001b[0m\u001b[0;34m\u001b[0m\u001b[0;34m\u001b[0m\u001b[0m\n\u001b[0;32m---> 75\u001b[0;31m             \u001b[0;32mif\u001b[0m \u001b[0menergypaths\u001b[0m\u001b[0;34m[\u001b[0m\u001b[0mrow\u001b[0m\u001b[0;34m,\u001b[0m\u001b[0mprevcol\u001b[0m\u001b[0;34m-\u001b[0m\u001b[0;36m1\u001b[0m\u001b[0;34m]\u001b[0m\u001b[0;34m<\u001b[0m\u001b[0menergypaths\u001b[0m\u001b[0;34m[\u001b[0m\u001b[0mrow\u001b[0m\u001b[0;34m,\u001b[0m\u001b[0mprevcol\u001b[0m\u001b[0;34m]\u001b[0m \u001b[0;32mand\u001b[0m \u001b[0menergypaths\u001b[0m\u001b[0;34m[\u001b[0m\u001b[0mrow\u001b[0m\u001b[0;34m,\u001b[0m\u001b[0mprevcol\u001b[0m\u001b[0;34m-\u001b[0m\u001b[0;36m1\u001b[0m\u001b[0;34m]\u001b[0m\u001b[0;34m<\u001b[0m\u001b[0menergypaths\u001b[0m\u001b[0;34m[\u001b[0m\u001b[0mrow\u001b[0m\u001b[0;34m,\u001b[0m\u001b[0mprevcol\u001b[0m\u001b[0;34m+\u001b[0m\u001b[0;36m1\u001b[0m\u001b[0;34m]\u001b[0m\u001b[0;34m:\u001b[0m\u001b[0;34m\u001b[0m\u001b[0;34m\u001b[0m\u001b[0m\n\u001b[0m\u001b[1;32m     76\u001b[0m                 \u001b[0mseam\u001b[0m\u001b[0;34m[\u001b[0m\u001b[0mrow\u001b[0m\u001b[0;34m]\u001b[0m \u001b[0;34m=\u001b[0m \u001b[0mprevcol\u001b[0m\u001b[0;34m-\u001b[0m\u001b[0;36m1\u001b[0m\u001b[0;34m\u001b[0m\u001b[0;34m\u001b[0m\u001b[0m\n\u001b[1;32m     77\u001b[0m             \u001b[0;32melif\u001b[0m \u001b[0menergypaths\u001b[0m\u001b[0;34m[\u001b[0m\u001b[0mrow\u001b[0m\u001b[0;34m,\u001b[0m\u001b[0mprevcol\u001b[0m\u001b[0;34m+\u001b[0m\u001b[0;36m1\u001b[0m\u001b[0;34m]\u001b[0m\u001b[0;34m<\u001b[0m\u001b[0menergypaths\u001b[0m\u001b[0;34m[\u001b[0m\u001b[0mrow\u001b[0m\u001b[0;34m,\u001b[0m\u001b[0mprevcol\u001b[0m\u001b[0;34m-\u001b[0m\u001b[0;36m1\u001b[0m\u001b[0;34m]\u001b[0m \u001b[0;32mand\u001b[0m \u001b[0menergypaths\u001b[0m\u001b[0;34m[\u001b[0m\u001b[0mrow\u001b[0m\u001b[0;34m,\u001b[0m\u001b[0mprevcol\u001b[0m\u001b[0;34m+\u001b[0m\u001b[0;36m1\u001b[0m\u001b[0;34m]\u001b[0m\u001b[0;34m<\u001b[0m\u001b[0menergypaths\u001b[0m\u001b[0;34m[\u001b[0m\u001b[0mrow\u001b[0m\u001b[0;34m,\u001b[0m\u001b[0mprevcol\u001b[0m\u001b[0;34m]\u001b[0m\u001b[0;34m:\u001b[0m\u001b[0;34m\u001b[0m\u001b[0;34m\u001b[0m\u001b[0m\n",
      "\u001b[0;31mIndexError\u001b[0m: index 221 is out of bounds for axis 1 with size 221"
     ]
    }
   ],
   "source": [
    "for i in range(100): #todo: give user choice of width and height\n",
    "    print(i)\n",
    "    seam, energypaths = seam_carving.findseam(running_im)\n",
    "    running_im = seam_carving.removeseam(running_im,seam)"
   ]
  },
  {
   "cell_type": "code",
   "execution_count": null,
   "metadata": {},
   "outputs": [],
   "source": [
    "fig = plt.figure(figsize=(8,12))\n",
    "plt.subplot(3,1,1)\n",
    "plt.imshow(energypaths)\n",
    "plt.title('Final Energy Map')\n",
    "\n",
    "axes = plt.subplot(3,1,2,facecolor='gray')\n",
    "plt.imshow(original)\n",
    "plt.title('Starting size: {0} x {1}'.format(np.shape(original)[0],\n",
    "                                            np.shape(original)[1]))\n",
    "plt.axis('equal')\n",
    "\n",
    "plt.subplot(3,1,3,facecolor='gray')\n",
    "plt.imshow(running_im)\n",
    "plt.title('Final size: {0} x {1}'.format(np.shape(running_im)[0],\n",
    "                                         np.shape(running_im)[1]))\n",
    "plt.axis('equal')\n",
    "\n",
    "print('Starting image size: {0}'.format(np.shape(original)))\n",
    "print('Resulting image size: {0}'.format(np.shape(running_im)))"
   ]
  },
  {
   "cell_type": "code",
   "execution_count": null,
   "metadata": {},
   "outputs": [],
   "source": []
  }
 ],
 "metadata": {
  "kernelspec": {
   "display_name": "Python 3",
   "language": "python",
   "name": "python3"
  },
  "language_info": {
   "codemirror_mode": {
    "name": "ipython",
    "version": 3
   },
   "file_extension": ".py",
   "mimetype": "text/x-python",
   "name": "python",
   "nbconvert_exporter": "python",
   "pygments_lexer": "ipython3",
   "version": "3.8.5"
  }
 },
 "nbformat": 4,
 "nbformat_minor": 2
}
